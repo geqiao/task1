{
 "cells": [
  {
   "cell_type": "code",
   "execution_count": 185,
   "metadata": {
    "scrolled": true
   },
   "outputs": [],
   "source": [
    "import pandas as pd\n",
    "import matplotlib.pyplot as plt\n",
    "import seaborn as sbn\n",
    "import matplotlib\n",
    "import numpy as np\n",
    "\n",
    "from sklearn.preprocessing import LabelEncoder, LabelBinarizer\n",
    "\n",
    "matplotlib.rcParams['figure.figsize'] = (10.0, 8.0)"
   ]
  },
  {
   "cell_type": "code",
   "execution_count": 186,
   "metadata": {},
   "outputs": [],
   "source": [
    "test_data_path = 'data/test.csv'\n",
    "train_data_path = 'data/train.csv'"
   ]
  },
  {
   "cell_type": "markdown",
   "metadata": {},
   "source": [
    "### 1) Take a look at the raw data using a pandas dataframe:"
   ]
  },
  {
   "cell_type": "code",
   "execution_count": 366,
   "metadata": {},
   "outputs": [
    {
     "data": {
      "text/html": [
       "<div>\n",
       "<style scoped>\n",
       "    .dataframe tbody tr th:only-of-type {\n",
       "        vertical-align: middle;\n",
       "    }\n",
       "\n",
       "    .dataframe tbody tr th {\n",
       "        vertical-align: top;\n",
       "    }\n",
       "\n",
       "    .dataframe thead th {\n",
       "        text-align: right;\n",
       "    }\n",
       "</style>\n",
       "<table border=\"1\" class=\"dataframe\">\n",
       "  <thead>\n",
       "    <tr style=\"text-align: right;\">\n",
       "      <th></th>\n",
       "      <th>Unnamed: 0</th>\n",
       "      <th>v0</th>\n",
       "      <th>v1</th>\n",
       "      <th>v2</th>\n",
       "      <th>v3</th>\n",
       "      <th>v4</th>\n",
       "      <th>v5</th>\n",
       "      <th>v6</th>\n",
       "      <th>v7</th>\n",
       "      <th>v8</th>\n",
       "      <th>...</th>\n",
       "      <th>v556</th>\n",
       "      <th>v557</th>\n",
       "      <th>v558</th>\n",
       "      <th>v559</th>\n",
       "      <th>v560</th>\n",
       "      <th>v561</th>\n",
       "      <th>v562</th>\n",
       "      <th>v563</th>\n",
       "      <th>v564</th>\n",
       "      <th>label</th>\n",
       "    </tr>\n",
       "  </thead>\n",
       "  <tbody>\n",
       "    <tr>\n",
       "      <th>0</th>\n",
       "      <td>0</td>\n",
       "      <td>0</td>\n",
       "      <td>f</td>\n",
       "      <td>-0.132905</td>\n",
       "      <td>-0.995279</td>\n",
       "      <td>-0.983111</td>\n",
       "      <td>0</td>\n",
       "      <td>-0.995112</td>\n",
       "      <td>-0.983185</td>\n",
       "      <td>-0.923527</td>\n",
       "      <td>...</td>\n",
       "      <td>-0.464761</td>\n",
       "      <td>-0.018446</td>\n",
       "      <td>-0.841247</td>\n",
       "      <td>0.179941</td>\n",
       "      <td>-0.058627</td>\n",
       "      <td>A</td>\n",
       "      <td>0.288585</td>\n",
       "      <td>-0.913526</td>\n",
       "      <td>-0.020294</td>\n",
       "      <td>2</td>\n",
       "    </tr>\n",
       "    <tr>\n",
       "      <th>1</th>\n",
       "      <td>1</td>\n",
       "      <td>1</td>\n",
       "      <td>f</td>\n",
       "      <td>-0.123520</td>\n",
       "      <td>-0.998245</td>\n",
       "      <td>-0.975300</td>\n",
       "      <td>0</td>\n",
       "      <td>-0.998807</td>\n",
       "      <td>-0.974914</td>\n",
       "      <td>-0.957686</td>\n",
       "      <td>...</td>\n",
       "      <td>-0.732626</td>\n",
       "      <td>0.703511</td>\n",
       "      <td>-0.844788</td>\n",
       "      <td>0.180289</td>\n",
       "      <td>-0.054317</td>\n",
       "      <td>A</td>\n",
       "      <td>0.278419</td>\n",
       "      <td>-0.960322</td>\n",
       "      <td>-0.016411</td>\n",
       "      <td>2</td>\n",
       "    </tr>\n",
       "    <tr>\n",
       "      <th>2</th>\n",
       "      <td>2</td>\n",
       "      <td>2</td>\n",
       "      <td>f</td>\n",
       "      <td>-0.113462</td>\n",
       "      <td>-0.995380</td>\n",
       "      <td>-0.967187</td>\n",
       "      <td>0</td>\n",
       "      <td>-0.996520</td>\n",
       "      <td>-0.963668</td>\n",
       "      <td>-0.977469</td>\n",
       "      <td>...</td>\n",
       "      <td>0.100699</td>\n",
       "      <td>0.808529</td>\n",
       "      <td>-0.848933</td>\n",
       "      <td>0.180637</td>\n",
       "      <td>-0.049118</td>\n",
       "      <td>A</td>\n",
       "      <td>0.279653</td>\n",
       "      <td>-0.978944</td>\n",
       "      <td>-0.019467</td>\n",
       "      <td>2</td>\n",
       "    </tr>\n",
       "    <tr>\n",
       "      <th>3</th>\n",
       "      <td>3</td>\n",
       "      <td>3</td>\n",
       "      <td>f</td>\n",
       "      <td>-0.123283</td>\n",
       "      <td>-0.996091</td>\n",
       "      <td>-0.983403</td>\n",
       "      <td>0</td>\n",
       "      <td>-0.997099</td>\n",
       "      <td>-0.982750</td>\n",
       "      <td>-0.989302</td>\n",
       "      <td>...</td>\n",
       "      <td>0.640011</td>\n",
       "      <td>-0.485366</td>\n",
       "      <td>-0.848649</td>\n",
       "      <td>0.181935</td>\n",
       "      <td>-0.047663</td>\n",
       "      <td>A</td>\n",
       "      <td>0.279174</td>\n",
       "      <td>-0.990675</td>\n",
       "      <td>-0.026201</td>\n",
       "      <td>2</td>\n",
       "    </tr>\n",
       "    <tr>\n",
       "      <th>4</th>\n",
       "      <td>4</td>\n",
       "      <td>4</td>\n",
       "      <td>f</td>\n",
       "      <td>-0.115362</td>\n",
       "      <td>-0.998139</td>\n",
       "      <td>-0.980817</td>\n",
       "      <td>0</td>\n",
       "      <td>-0.998321</td>\n",
       "      <td>-0.979672</td>\n",
       "      <td>-0.990441</td>\n",
       "      <td>...</td>\n",
       "      <td>0.693578</td>\n",
       "      <td>-0.615971</td>\n",
       "      <td>-0.847865</td>\n",
       "      <td>0.185151</td>\n",
       "      <td>-0.043892</td>\n",
       "      <td>A</td>\n",
       "      <td>0.276629</td>\n",
       "      <td>-0.990482</td>\n",
       "      <td>-0.016570</td>\n",
       "      <td>2</td>\n",
       "    </tr>\n",
       "  </tbody>\n",
       "</table>\n",
       "<p>5 rows × 567 columns</p>\n",
       "</div>"
      ],
      "text/plain": [
       "   Unnamed: 0  v0 v1        v2        v3        v4  v5        v6        v7  \\\n",
       "0           0   0  f -0.132905 -0.995279 -0.983111   0 -0.995112 -0.983185   \n",
       "1           1   1  f -0.123520 -0.998245 -0.975300   0 -0.998807 -0.974914   \n",
       "2           2   2  f -0.113462 -0.995380 -0.967187   0 -0.996520 -0.963668   \n",
       "3           3   3  f -0.123283 -0.996091 -0.983403   0 -0.997099 -0.982750   \n",
       "4           4   4  f -0.115362 -0.998139 -0.980817   0 -0.998321 -0.979672   \n",
       "\n",
       "         v8  ...        v556      v557      v558      v559      v560  v561  \\\n",
       "0 -0.923527  ...   -0.464761 -0.018446 -0.841247  0.179941 -0.058627     A   \n",
       "1 -0.957686  ...   -0.732626  0.703511 -0.844788  0.180289 -0.054317     A   \n",
       "2 -0.977469  ...    0.100699  0.808529 -0.848933  0.180637 -0.049118     A   \n",
       "3 -0.989302  ...    0.640011 -0.485366 -0.848649  0.181935 -0.047663     A   \n",
       "4 -0.990441  ...    0.693578 -0.615971 -0.847865  0.185151 -0.043892     A   \n",
       "\n",
       "       v562      v563      v564  label  \n",
       "0  0.288585 -0.913526 -0.020294      2  \n",
       "1  0.278419 -0.960322 -0.016411      2  \n",
       "2  0.279653 -0.978944 -0.019467      2  \n",
       "3  0.279174 -0.990675 -0.026201      2  \n",
       "4  0.276629 -0.990482 -0.016570      2  \n",
       "\n",
       "[5 rows x 567 columns]"
      ]
     },
     "execution_count": 366,
     "metadata": {},
     "output_type": "execute_result"
    }
   ],
   "source": [
    "raw_train_data = pd.read_csv(train_data_path)\n",
    "raw_test_data = pd.read_csv(test_data_path)\n",
    "raw_train_data.head(5)"
   ]
  },
  {
   "cell_type": "markdown",
   "metadata": {},
   "source": [
    "### 2) Further check how many categories in the train and test data"
   ]
  },
  {
   "cell_type": "code",
   "execution_count": 188,
   "metadata": {
    "scrolled": false
   },
   "outputs": [
    {
     "data": {
      "image/png": "[encoded data removed]",
      "text/plain": [
       "<Figure size 720x576 with 2 Axes>"
      ]
     },
     "metadata": {},
     "output_type": "display_data"
    }
   ],
   "source": [
    "_,ax=plt.subplots(2)\n",
    "sbn.countplot(x='label', data=raw_train_data, ax = ax[0])\n",
    "sbn.countplot(x='label', data=raw_test_data, ax = ax[1])\n",
    "ax[0].set_title('Counts by label of train data')\n",
    "ax[0].set_xlabel('')\n",
    "ax[1].set_title('Counts by label of test data')\n",
    "ax[0].set_xlabel('');"
   ]
  },
  {
   "cell_type": "markdown",
   "metadata": {},
   "source": [
    "## Encoding non-numeric features"
   ]
  },
  {
   "cell_type": "markdown",
   "metadata": {},
   "source": [
    "Now take a look of non-numeric data coloumns:"
   ]
  },
  {
   "cell_type": "code",
   "execution_count": 189,
   "metadata": {
    "scrolled": true
   },
   "outputs": [
    {
     "data": {
      "text/html": [
       "<div>\n",
       "<style scoped>\n",
       "    .dataframe tbody tr th:only-of-type {\n",
       "        vertical-align: middle;\n",
       "    }\n",
       "\n",
       "    .dataframe tbody tr th {\n",
       "        vertical-align: top;\n",
       "    }\n",
       "\n",
       "    .dataframe thead th {\n",
       "        text-align: right;\n",
       "    }\n",
       "</style>\n",
       "<table border=\"1\" class=\"dataframe\">\n",
       "  <thead>\n",
       "    <tr style=\"text-align: right;\">\n",
       "      <th></th>\n",
       "      <th>v1</th>\n",
       "      <th>v561</th>\n",
       "    </tr>\n",
       "  </thead>\n",
       "  <tbody>\n",
       "    <tr>\n",
       "      <th>count</th>\n",
       "      <td>7352</td>\n",
       "      <td>7352</td>\n",
       "    </tr>\n",
       "    <tr>\n",
       "      <th>unique</th>\n",
       "      <td>6</td>\n",
       "      <td>21</td>\n",
       "    </tr>\n",
       "    <tr>\n",
       "      <th>top</th>\n",
       "      <td>d</td>\n",
       "      <td>Y</td>\n",
       "    </tr>\n",
       "    <tr>\n",
       "      <th>freq</th>\n",
       "      <td>1407</td>\n",
       "      <td>409</td>\n",
       "    </tr>\n",
       "  </tbody>\n",
       "</table>\n",
       "</div>"
      ],
      "text/plain": [
       "          v1  v561\n",
       "count   7352  7352\n",
       "unique     6    21\n",
       "top        d     Y\n",
       "freq    1407   409"
      ]
     },
     "execution_count": 189,
     "metadata": {},
     "output_type": "execute_result"
    }
   ],
   "source": [
    "raw_train_data.select_dtypes(exclude=['float','int']).describe()"
   ]
  },
  {
   "cell_type": "code",
   "execution_count": 190,
   "metadata": {},
   "outputs": [
    {
     "data": {
      "text/html": [
       "<div>\n",
       "<style scoped>\n",
       "    .dataframe tbody tr th:only-of-type {\n",
       "        vertical-align: middle;\n",
       "    }\n",
       "\n",
       "    .dataframe tbody tr th {\n",
       "        vertical-align: top;\n",
       "    }\n",
       "\n",
       "    .dataframe thead th {\n",
       "        text-align: right;\n",
       "    }\n",
       "</style>\n",
       "<table border=\"1\" class=\"dataframe\">\n",
       "  <thead>\n",
       "    <tr style=\"text-align: right;\">\n",
       "      <th></th>\n",
       "      <th>v1</th>\n",
       "      <th>v561</th>\n",
       "    </tr>\n",
       "  </thead>\n",
       "  <tbody>\n",
       "    <tr>\n",
       "      <th>count</th>\n",
       "      <td>2947</td>\n",
       "      <td>2947</td>\n",
       "    </tr>\n",
       "    <tr>\n",
       "      <th>unique</th>\n",
       "      <td>6</td>\n",
       "      <td>9</td>\n",
       "    </tr>\n",
       "    <tr>\n",
       "      <th>top</th>\n",
       "      <td>d</td>\n",
       "      <td>X</td>\n",
       "    </tr>\n",
       "    <tr>\n",
       "      <th>freq</th>\n",
       "      <td>524</td>\n",
       "      <td>381</td>\n",
       "    </tr>\n",
       "  </tbody>\n",
       "</table>\n",
       "</div>"
      ],
      "text/plain": [
       "          v1  v561\n",
       "count   2947  2947\n",
       "unique     6     9\n",
       "top        d     X\n",
       "freq     524   381"
      ]
     },
     "execution_count": 190,
     "metadata": {},
     "output_type": "execute_result"
    }
   ],
   "source": [
    "raw_test_data.select_dtypes(exclude=['float','int']).describe()"
   ]
  },
  {
   "cell_type": "markdown",
   "metadata": {},
   "source": [
    "It shows v1 and v561 are the only two columns with non-numeric values. Let's take a close look:"
   ]
  },
  {
   "cell_type": "code",
   "execution_count": 191,
   "metadata": {},
   "outputs": [
    {
     "data": {
      "image/png": "[encoded data removed]",
      "text/plain": [
       "<Figure size 720x576 with 2 Axes>"
      ]
     },
     "metadata": {},
     "output_type": "display_data"
    }
   ],
   "source": [
    "_,ax=plt.subplots(2)\n",
    "sbn.countplot(x='v1', data=raw_train_data, ax = ax[0])\n",
    "sbn.countplot(x='v1', data=raw_test_data, ax = ax[1])\n",
    "ax[0].set_title('Counts by V1 of train data')\n",
    "ax[0].set_xlabel('')\n",
    "ax[1].set_title('Counts by V1 of test data')\n",
    "ax[0].set_xlabel('');"
   ]
  },
  {
   "cell_type": "code",
   "execution_count": 192,
   "metadata": {},
   "outputs": [
    {
     "data": {
      "image/png": "[encoded data removed]",
      "text/plain": [
       "<Figure size 720x576 with 2 Axes>"
      ]
     },
     "metadata": {},
     "output_type": "display_data"
    }
   ],
   "source": [
    "_,ax=plt.subplots(2)\n",
    "sbn.countplot(x='v561', data=raw_train_data, ax = ax[0])\n",
    "sbn.countplot(x='v561', data=raw_test_data, ax = ax[1])\n",
    "ax[0].set_title('Counts by V561 of train data')\n",
    "ax[0].set_xlabel('')\n",
    "ax[1].set_title('Counts by V561 of test data')\n",
    "ax[0].set_xlabel('');"
   ]
  },
  {
   "cell_type": "markdown",
   "metadata": {},
   "source": [
    "As v561 has different categories in the train and test sets, this feature is dropped. On the other hand, v1 can be binarize encoded."
   ]
  },
  {
   "cell_type": "code",
   "execution_count": 367,
   "metadata": {
    "scrolled": true
   },
   "outputs": [],
   "source": [
    "raw_train_data.drop(columns=raw_train_data.columns[[0,1]],inplace=True)\n",
    "raw_test_data.drop(columns=raw_test_data.columns[[0,1]],inplace=True)\n",
    "raw_train_data.drop(columns=['v561'],inplace=True)\n",
    "raw_test_data.drop(columns=['v561'],inplace=True)"
   ]
  },
  {
   "cell_type": "code",
   "execution_count": 368,
   "metadata": {},
   "outputs": [],
   "source": [
    "lbenc = LabelBinarizer()\n",
    "v1_train_binary = lbenc.fit_transform(raw_train_data.v1)\n",
    "v1_test_binary = lbenc.transform(raw_test_data.v1)\n",
    "v1_category = lbenc.classes_\n",
    "\n",
    "for i, cat in enumerate(v1_category):\n",
    "    raw_train_data['v1_'+cat] = v1_train_binary[:,i]\n",
    "    raw_test_data['v1_'+cat] = v1_test_binary[:,i]\n",
    "    \n",
    "raw_train_data.drop(columns=['v1'],inplace=True)\n",
    "raw_test_data.drop(columns=['v1'],inplace=True)"
   ]
  },
  {
   "cell_type": "markdown",
   "metadata": {},
   "source": [
    "## Deal with nan values"
   ]
  },
  {
   "cell_type": "code",
   "execution_count": 289,
   "metadata": {},
   "outputs": [
    {
     "data": {
      "text/html": [
       "<div>\n",
       "<style scoped>\n",
       "    .dataframe tbody tr th:only-of-type {\n",
       "        vertical-align: middle;\n",
       "    }\n",
       "\n",
       "    .dataframe tbody tr th {\n",
       "        vertical-align: top;\n",
       "    }\n",
       "\n",
       "    .dataframe thead th {\n",
       "        text-align: right;\n",
       "    }\n",
       "</style>\n",
       "<table border=\"1\" class=\"dataframe\">\n",
       "  <thead>\n",
       "    <tr style=\"text-align: right;\">\n",
       "      <th></th>\n",
       "      <th>v8</th>\n",
       "      <th>v10</th>\n",
       "      <th>v11</th>\n",
       "      <th>v12</th>\n",
       "      <th>v13</th>\n",
       "      <th>v14</th>\n",
       "      <th>v15</th>\n",
       "      <th>v16</th>\n",
       "      <th>v17</th>\n",
       "      <th>v18</th>\n",
       "    </tr>\n",
       "  </thead>\n",
       "  <tbody>\n",
       "    <tr>\n",
       "      <th>count</th>\n",
       "      <td>77.000000</td>\n",
       "      <td>71.000000</td>\n",
       "      <td>62.000000</td>\n",
       "      <td>73.000000</td>\n",
       "      <td>66.000000</td>\n",
       "      <td>59.000000</td>\n",
       "      <td>58.000000</td>\n",
       "      <td>77.000000</td>\n",
       "      <td>74.000000</td>\n",
       "      <td>77.000000</td>\n",
       "    </tr>\n",
       "    <tr>\n",
       "      <th>mean</th>\n",
       "      <td>-0.739423</td>\n",
       "      <td>-0.373939</td>\n",
       "      <td>-0.621777</td>\n",
       "      <td>0.633491</td>\n",
       "      <td>0.454882</td>\n",
       "      <td>0.697277</td>\n",
       "      <td>-0.724786</td>\n",
       "      <td>-0.897984</td>\n",
       "      <td>-0.933623</td>\n",
       "      <td>-0.913015</td>\n",
       "    </tr>\n",
       "    <tr>\n",
       "      <th>std</th>\n",
       "      <td>0.329816</td>\n",
       "      <td>0.245066</td>\n",
       "      <td>0.237654</td>\n",
       "      <td>0.341129</td>\n",
       "      <td>0.315790</td>\n",
       "      <td>0.224955</td>\n",
       "      <td>0.388105</td>\n",
       "      <td>0.171011</td>\n",
       "      <td>0.099321</td>\n",
       "      <td>0.123740</td>\n",
       "    </tr>\n",
       "    <tr>\n",
       "      <th>min</th>\n",
       "      <td>-0.999316</td>\n",
       "      <td>-0.579196</td>\n",
       "      <td>-0.831265</td>\n",
       "      <td>-0.306237</td>\n",
       "      <td>-0.228288</td>\n",
       "      <td>-0.038883</td>\n",
       "      <td>-0.999004</td>\n",
       "      <td>-0.999996</td>\n",
       "      <td>-0.999983</td>\n",
       "      <td>-1.000000</td>\n",
       "    </tr>\n",
       "    <tr>\n",
       "      <th>25%</th>\n",
       "      <td>-0.991111</td>\n",
       "      <td>-0.571139</td>\n",
       "      <td>-0.819212</td>\n",
       "      <td>0.353946</td>\n",
       "      <td>0.129204</td>\n",
       "      <td>0.464706</td>\n",
       "      <td>-0.995004</td>\n",
       "      <td>-0.999979</td>\n",
       "      <td>-0.999920</td>\n",
       "      <td>-0.999787</td>\n",
       "    </tr>\n",
       "    <tr>\n",
       "      <th>50%</th>\n",
       "      <td>-0.960828</td>\n",
       "      <td>-0.531190</td>\n",
       "      <td>-0.790353</td>\n",
       "      <td>0.843648</td>\n",
       "      <td>0.666047</td>\n",
       "      <td>0.830569</td>\n",
       "      <td>-0.974906</td>\n",
       "      <td>-0.999904</td>\n",
       "      <td>-0.999136</td>\n",
       "      <td>-0.998242</td>\n",
       "    </tr>\n",
       "    <tr>\n",
       "      <th>75%</th>\n",
       "      <td>-0.363082</td>\n",
       "      <td>-0.107552</td>\n",
       "      <td>-0.385963</td>\n",
       "      <td>0.849265</td>\n",
       "      <td>0.688624</td>\n",
       "      <td>0.840576</td>\n",
       "      <td>-0.261229</td>\n",
       "      <td>-0.789177</td>\n",
       "      <td>-0.865844</td>\n",
       "      <td>-0.792232</td>\n",
       "    </tr>\n",
       "    <tr>\n",
       "      <th>max</th>\n",
       "      <td>0.035654</td>\n",
       "      <td>0.196827</td>\n",
       "      <td>-0.099875</td>\n",
       "      <td>0.854270</td>\n",
       "      <td>0.695290</td>\n",
       "      <td>0.861045</td>\n",
       "      <td>0.116705</td>\n",
       "      <td>-0.257503</td>\n",
       "      <td>-0.711663</td>\n",
       "      <td>-0.489898</td>\n",
       "    </tr>\n",
       "  </tbody>\n",
       "</table>\n",
       "</div>"
      ],
      "text/plain": [
       "              v8        v10        v11        v12        v13        v14  \\\n",
       "count  77.000000  71.000000  62.000000  73.000000  66.000000  59.000000   \n",
       "mean   -0.739423  -0.373939  -0.621777   0.633491   0.454882   0.697277   \n",
       "std     0.329816   0.245066   0.237654   0.341129   0.315790   0.224955   \n",
       "min    -0.999316  -0.579196  -0.831265  -0.306237  -0.228288  -0.038883   \n",
       "25%    -0.991111  -0.571139  -0.819212   0.353946   0.129204   0.464706   \n",
       "50%    -0.960828  -0.531190  -0.790353   0.843648   0.666047   0.830569   \n",
       "75%    -0.363082  -0.107552  -0.385963   0.849265   0.688624   0.840576   \n",
       "max     0.035654   0.196827  -0.099875   0.854270   0.695290   0.861045   \n",
       "\n",
       "             v15        v16        v17        v18  \n",
       "count  58.000000  77.000000  74.000000  77.000000  \n",
       "mean   -0.724786  -0.897984  -0.933623  -0.913015  \n",
       "std     0.388105   0.171011   0.099321   0.123740  \n",
       "min    -0.999004  -0.999996  -0.999983  -1.000000  \n",
       "25%    -0.995004  -0.999979  -0.999920  -0.999787  \n",
       "50%    -0.974906  -0.999904  -0.999136  -0.998242  \n",
       "75%    -0.261229  -0.789177  -0.865844  -0.792232  \n",
       "max     0.116705  -0.257503  -0.711663  -0.489898  "
      ]
     },
     "execution_count": 289,
     "metadata": {},
     "output_type": "execute_result"
    }
   ],
   "source": [
    "raw_train_data.loc[raw_train_data.isna().any(axis=1),raw_train_data.isna().any(axis=0)].describe()"
   ]
  },
  {
   "cell_type": "code",
   "execution_count": 216,
   "metadata": {},
   "outputs": [
    {
     "data": {
      "text/html": [
       "<div>\n",
       "<style scoped>\n",
       "    .dataframe tbody tr th:only-of-type {\n",
       "        vertical-align: middle;\n",
       "    }\n",
       "\n",
       "    .dataframe tbody tr th {\n",
       "        vertical-align: top;\n",
       "    }\n",
       "\n",
       "    .dataframe thead th {\n",
       "        text-align: right;\n",
       "    }\n",
       "</style>\n",
       "<table border=\"1\" class=\"dataframe\">\n",
       "  <thead>\n",
       "    <tr style=\"text-align: right;\">\n",
       "      <th></th>\n",
       "      <th>v9</th>\n",
       "      <th>v11</th>\n",
       "      <th>v12</th>\n",
       "    </tr>\n",
       "  </thead>\n",
       "  <tbody>\n",
       "    <tr>\n",
       "      <th>count</th>\n",
       "      <td>32.000000</td>\n",
       "      <td>24.000000</td>\n",
       "      <td>32.000000</td>\n",
       "    </tr>\n",
       "    <tr>\n",
       "      <th>mean</th>\n",
       "      <td>-0.576350</td>\n",
       "      <td>-0.616086</td>\n",
       "      <td>0.651963</td>\n",
       "    </tr>\n",
       "    <tr>\n",
       "      <th>std</th>\n",
       "      <td>0.433808</td>\n",
       "      <td>0.205460</td>\n",
       "      <td>0.261655</td>\n",
       "    </tr>\n",
       "    <tr>\n",
       "      <th>min</th>\n",
       "      <td>-0.945673</td>\n",
       "      <td>-0.820055</td>\n",
       "      <td>0.152912</td>\n",
       "    </tr>\n",
       "    <tr>\n",
       "      <th>25%</th>\n",
       "      <td>-0.934578</td>\n",
       "      <td>-0.792156</td>\n",
       "      <td>0.380215</td>\n",
       "    </tr>\n",
       "    <tr>\n",
       "      <th>50%</th>\n",
       "      <td>-0.856601</td>\n",
       "      <td>-0.738037</td>\n",
       "      <td>0.827531</td>\n",
       "    </tr>\n",
       "    <tr>\n",
       "      <th>75%</th>\n",
       "      <td>-0.259721</td>\n",
       "      <td>-0.388833</td>\n",
       "      <td>0.842632</td>\n",
       "    </tr>\n",
       "    <tr>\n",
       "      <th>max</th>\n",
       "      <td>0.551623</td>\n",
       "      <td>-0.280410</td>\n",
       "      <td>0.853552</td>\n",
       "    </tr>\n",
       "  </tbody>\n",
       "</table>\n",
       "</div>"
      ],
      "text/plain": [
       "              v9        v11        v12\n",
       "count  32.000000  24.000000  32.000000\n",
       "mean   -0.576350  -0.616086   0.651963\n",
       "std     0.433808   0.205460   0.261655\n",
       "min    -0.945673  -0.820055   0.152912\n",
       "25%    -0.934578  -0.792156   0.380215\n",
       "50%    -0.856601  -0.738037   0.827531\n",
       "75%    -0.259721  -0.388833   0.842632\n",
       "max     0.551623  -0.280410   0.853552"
      ]
     },
     "execution_count": 216,
     "metadata": {},
     "output_type": "execute_result"
    }
   ],
   "source": [
    "raw_test_data.loc[raw_test_data.isna().any(axis=1),raw_test_data.isna().any(axis=0)].describe()"
   ]
  },
  {
   "cell_type": "code",
   "execution_count": 365,
   "metadata": {},
   "outputs": [],
   "source": [
    "# raw_test_data.loc[raw_test_data.isna().any(axis=1),raw_test_data.isna().any(axis=0)].describe()\n",
    "\n",
    "# raw_train_nan_col = raw_train_data.columns[raw_train_data.isna().any(axis=0)].values\n",
    "# raw_test_nan_col = raw_test_data.columns[raw_test_data.isna().any(axis=0)].values\n",
    "# drop_col = ([col for col in raw_test_nan_col]+[col for col in raw_train_nan_col] + ['label'])\n",
    "\n",
    "# X_train = raw_train_data.loc[:,[col for col in raw_train_data.columns if col not in drop_col]]\n",
    "# y_train = raw_train_data.loc[:,['label']]\n",
    "# X_test = raw_test_data.loc[:,[col for col in raw_test_data.columns if col not in drop_col]]\n",
    "# y_test = raw_test_data.loc[:,['label']]"
   ]
  },
  {
   "cell_type": "code",
   "execution_count": 369,
   "metadata": {},
   "outputs": [],
   "source": [
    "from sklearn.preprocessing import Imputer\n",
    "imp = Imputer(strategy='mean')\n",
    "\n",
    "X_train = raw_train_data.loc[:,[col for col in raw_train_data.columns if col not in ['label']]]\n",
    "X_train.loc[:,:] = imp.fit_transform(X_train)\n",
    "y_train = raw_train_data.loc[:,['label']]\n",
    "X_test = raw_test_data.loc[:,[col for col in raw_test_data.columns if col not in ['label']]]\n",
    "X_test.loc[:,:] = imp.transform(X_test)\n",
    "y_test = raw_test_data.loc[:,['label']]"
   ]
  },
  {
   "cell_type": "markdown",
   "metadata": {},
   "source": [
    "## Random Forest"
   ]
  },
  {
   "cell_type": "code",
   "execution_count": 199,
   "metadata": {},
   "outputs": [],
   "source": [
    "from sklearn.ensemble import RandomForestClassifier\n",
    "from sklearn.metrics import classification_report"
   ]
  },
  {
   "cell_type": "code",
   "execution_count": 395,
   "metadata": {
    "scrolled": true
   },
   "outputs": [
    {
     "name": "stdout",
     "output_type": "stream",
     "text": [
      "             precision    recall  f1-score   support\n",
      "\n",
      "          0       1.00      1.00      1.00       537\n",
      "          1       0.83      0.83      0.83       491\n",
      "          2       0.84      0.84      0.84       532\n",
      "          3       0.88      0.96      0.92       496\n",
      "          4       0.96      0.79      0.87       420\n",
      "          5       0.88      0.92      0.90       471\n",
      "\n",
      "avg / total       0.90      0.90      0.89      2947\n",
      "\n"
     ]
    }
   ],
   "source": [
    "rfc = RandomForestClassifier(n_estimators=50,\n",
    "                             criterion = 'entropy',\n",
    "                             n_jobs=-1,\n",
    "                             random_state=0,\n",
    "                             max_depth=6)\n",
    "rfc.fit(X_train, np.ravel(y_train))\n",
    "print classification_report(y_test,rfc.predict(X_test))"
   ]
  },
  {
   "cell_type": "markdown",
   "metadata": {},
   "source": [
    "Check the performance in trainging:"
   ]
  },
  {
   "cell_type": "code",
   "execution_count": 393,
   "metadata": {
    "scrolled": true
   },
   "outputs": [
    {
     "name": "stdout",
     "output_type": "stream",
     "text": [
      "             precision    recall  f1-score   support\n",
      "\n",
      "          0       1.00      1.00      1.00      1407\n",
      "          1       1.00      0.98      0.99      1286\n",
      "          2       0.98      1.00      0.99      1374\n",
      "          3       0.99      1.00      0.99      1226\n",
      "          4       1.00      0.98      0.99       986\n",
      "          5       0.99      1.00      1.00      1073\n",
      "\n",
      "avg / total       0.99      0.99      0.99      7352\n",
      "\n"
     ]
    }
   ],
   "source": [
    "print classification_report(y_train,rfc.predict(X_train))"
   ]
  },
  {
   "cell_type": "markdown",
   "metadata": {},
   "source": [
    "10 most influential featuers in RF:"
   ]
  },
  {
   "cell_type": "code",
   "execution_count": 394,
   "metadata": {},
   "outputs": [
    {
     "name": "stdout",
     "output_type": "stream",
     "text": [
      "Index([u'v53', u'v1_i', u'v559', u'v40', u'v52', u'v56', u'v1_d', u'v1_f',\n",
      "       u'v558', u'v1_e'],\n",
      "      dtype='object')\n"
     ]
    }
   ],
   "source": [
    "print X_test.columns[np.argsort(rfc.feature_importances_)[-10:]]"
   ]
  },
  {
   "cell_type": "markdown",
   "metadata": {},
   "source": [
    "# SVM"
   ]
  },
  {
   "cell_type": "code",
   "execution_count": 280,
   "metadata": {},
   "outputs": [],
   "source": [
    "from sklearn.svm import SVC\n",
    "from sklearn.preprocessing import StandardScaler"
   ]
  },
  {
   "cell_type": "code",
   "execution_count": 372,
   "metadata": {},
   "outputs": [],
   "source": [
    "scaler = StandardScaler()\n",
    "X_train.loc[:,:] = scaler.fit_transform(X_train)\n",
    "X_test.loc[:,:] = scaler.transform(X_test)"
   ]
  },
  {
   "cell_type": "code",
   "execution_count": 374,
   "metadata": {},
   "outputs": [
    {
     "name": "stdout",
     "output_type": "stream",
     "text": [
      "             precision    recall  f1-score   support\n",
      "\n",
      "          0       0.99      0.99      0.99       537\n",
      "          1       0.78      0.80      0.79       491\n",
      "          2       0.83      0.79      0.81       532\n",
      "          3       0.91      0.95      0.93       496\n",
      "          4       0.90      0.87      0.88       420\n",
      "          5       0.93      0.92      0.93       471\n",
      "\n",
      "avg / total       0.89      0.89      0.89      2947\n",
      "\n"
     ]
    }
   ],
   "source": [
    "svc = SVC(C = 0.1,\n",
    "          random_state=0,\n",
    "          class_weight = 'balanced')\n",
    "svc.fit(X_train, np.ravel(y_train))\n",
    "print classification_report(y_test,svc.predict(X_test))"
   ]
  },
  {
   "cell_type": "code",
   "execution_count": 296,
   "metadata": {},
   "outputs": [
    {
     "data": {
      "text/plain": [
       "<bound method SVC.get_params of SVC(C=0.1, cache_size=200, class_weight='balanced', coef0=0.0,\n",
       "  decision_function_shape='ovr', degree=3, gamma='auto', kernel='rbf',\n",
       "  max_iter=-1, probability=False, random_state=0, shrinking=True,\n",
       "  tol=0.001, verbose=False)>"
      ]
     },
     "execution_count": 296,
     "metadata": {},
     "output_type": "execute_result"
    }
   ],
   "source": [
    "svc.get_params"
   ]
  },
  {
   "cell_type": "code",
   "execution_count": 297,
   "metadata": {},
   "outputs": [
    {
     "name": "stdout",
     "output_type": "stream",
     "text": [
      "             precision    recall  f1-score   support\n",
      "\n",
      "          0       1.00      0.98      0.99      1407\n",
      "          1       1.00      1.00      1.00      1286\n",
      "          2       1.00      1.00      1.00      1374\n",
      "          3       1.00      0.98      0.99      1226\n",
      "          4       0.94      1.00      0.97       986\n",
      "          5       1.00      0.98      0.99      1073\n",
      "\n",
      "avg / total       0.99      0.99      0.99      7352\n",
      "\n"
     ]
    }
   ],
   "source": [
    "print classification_report(y_train,svc.predict(X_train))"
   ]
  },
  {
   "cell_type": "code",
   "execution_count": 273,
   "metadata": {
    "scrolled": true
   },
   "outputs": [
    {
     "data": {
      "text/plain": [
       "GridSearchCV(cv=StratifiedKFold(n_splits=2, random_state=0, shuffle=True),\n",
       "       error_score='raise',\n",
       "       estimator=SVC(C=1.0, cache_size=200, class_weight=None, coef0=0.0,\n",
       "  decision_function_shape='ovr', degree=3, gamma='auto', kernel='rbf',\n",
       "  max_iter=-1, probability=False, random_state=None, shrinking=True,\n",
       "  tol=0.001, verbose=False),\n",
       "       fit_params=None, iid=True, n_jobs=-1,\n",
       "       param_grid=[{'C': [0.1], 'gamma': [0.001, 0.01, 0.1, 1]}],\n",
       "       pre_dispatch='2*n_jobs', refit=True, return_train_score='warn',\n",
       "       scoring=None, verbose=0)"
      ]
     },
     "execution_count": 273,
     "metadata": {},
     "output_type": "execute_result"
    }
   ],
   "source": [
    "from sklearn.model_selection import StratifiedKFold, GridSearchCV\n",
    "skf = StratifiedKFold(n_splits= 2, shuffle = True,random_state=0)\n",
    "# tuned_parameters = [{'C': [1e3, 5e3, 1e4, 5e4, 1e5], \n",
    "#                      'gamma': [0.0001, 0.0005, 0.001, 0.005, 0.01, 0.1]}]\n",
    "tuned_parameters = [{'C': [0.1],\n",
    "                    'gamma':[0.001,0.01,0.1,1]}]\n",
    "clf = GridSearchCV(SVC(), tuned_parameters, cv=skf, n_jobs=-1)\n",
    "clf.fit(X_train,np.ravel(y_train))"
   ]
  },
  {
   "cell_type": "code",
   "execution_count": 274,
   "metadata": {},
   "outputs": [
    {
     "data": {
      "text/plain": [
       "{'C': 0.1, 'gamma': 0.001}"
      ]
     },
     "execution_count": 274,
     "metadata": {},
     "output_type": "execute_result"
    }
   ],
   "source": [
    "clf.best_params_"
   ]
  },
  {
   "cell_type": "code",
   "execution_count": 275,
   "metadata": {},
   "outputs": [
    {
     "name": "stdout",
     "output_type": "stream",
     "text": [
      "             precision    recall  f1-score   support\n",
      "\n",
      "          0       0.99      1.00      1.00       537\n",
      "          1       0.79      0.80      0.79       491\n",
      "          2       0.82      0.80      0.81       532\n",
      "          3       0.88      0.98      0.93       496\n",
      "          4       0.97      0.81      0.88       420\n",
      "          5       0.91      0.94      0.92       471\n",
      "\n",
      "avg / total       0.89      0.89      0.89      2947\n",
      "\n"
     ]
    }
   ],
   "source": [
    "print classification_report(y_test,clf.predict(X_test))"
   ]
  },
  {
   "cell_type": "code",
   "execution_count": 257,
   "metadata": {},
   "outputs": [
    {
     "name": "stdout",
     "output_type": "stream",
     "text": [
      "             precision    recall  f1-score   support\n",
      "\n",
      "          0       1.00      1.00      1.00      1407\n",
      "          1       1.00      1.00      1.00      1286\n",
      "          2       1.00      1.00      1.00      1374\n",
      "          3       1.00      1.00      1.00      1226\n",
      "          4       1.00      1.00      1.00       986\n",
      "          5       1.00      1.00      1.00      1073\n",
      "\n",
      "avg / total       1.00      1.00      1.00      7352\n",
      "\n"
     ]
    }
   ],
   "source": [
    "print classification_report(y_train,clf.predict(X_train))"
   ]
  },
  {
   "cell_type": "markdown",
   "metadata": {},
   "source": [
    "Polynomial kernal"
   ]
  },
  {
   "cell_type": "code",
   "execution_count": 238,
   "metadata": {},
   "outputs": [
    {
     "name": "stdout",
     "output_type": "stream",
     "text": [
      "             precision    recall  f1-score   support\n",
      "\n",
      "          0       1.00      0.92      0.96       537\n",
      "          1       0.83      0.66      0.74       491\n",
      "          2       0.71      0.86      0.78       532\n",
      "          3       0.71      0.98      0.83       496\n",
      "          4       0.96      0.66      0.78       420\n",
      "          5       0.90      0.85      0.87       471\n",
      "\n",
      "avg / total       0.85      0.83      0.83      2947\n",
      "\n"
     ]
    }
   ],
   "source": [
    "svc = SVC(kernel='poly',degree=5)\n",
    "svc.fit(X_train, np.ravel(y_train))\n",
    "print classification_report(y_test,svc.predict(X_test))"
   ]
  },
  {
   "cell_type": "code",
   "execution_count": 245,
   "metadata": {
    "scrolled": true
   },
   "outputs": [
    {
     "name": "stdout",
     "output_type": "stream",
     "text": [
      "             precision    recall  f1-score   support\n",
      "\n",
      "          0       1.00      0.99      0.99      1407\n",
      "          1       1.00      0.99      0.99      1286\n",
      "          2       0.99      0.99      0.99      1374\n",
      "          3       0.95      1.00      0.97      1226\n",
      "          4       1.00      0.92      0.96       986\n",
      "          5       0.96      1.00      0.98      1073\n",
      "\n",
      "avg / total       0.98      0.98      0.98      7352\n",
      "\n"
     ]
    }
   ],
   "source": [
    "print classification_report(y_train,svc.predict(X_train))"
   ]
  },
  {
   "cell_type": "markdown",
   "metadata": {},
   "source": [
    "## PCA"
   ]
  },
  {
   "cell_type": "code",
   "execution_count": 396,
   "metadata": {},
   "outputs": [],
   "source": [
    "X_train = raw_train_data.loc[:,[col for col in raw_train_data.columns if col not in ['label']]]\n",
    "X_train.loc[:,:] = imp.fit_transform(X_train)\n",
    "y_train = raw_train_data.loc[:,['label']]\n",
    "X_test = raw_test_data.loc[:,[col for col in raw_test_data.columns if col not in ['label']]]\n",
    "X_test.loc[:,:] = imp.transform(X_test)\n",
    "y_test = raw_test_data.loc[:,['label']]"
   ]
  },
  {
   "cell_type": "code",
   "execution_count": 398,
   "metadata": {},
   "outputs": [],
   "source": [
    "from sklearn.decomposition import PCA\n",
    "from sklearn.pipeline import Pipeline"
   ]
  },
  {
   "cell_type": "code",
   "execution_count": 407,
   "metadata": {},
   "outputs": [
    {
     "name": "stdout",
     "output_type": "stream",
     "text": [
      "{'pca__n_components': 500}\n"
     ]
    }
   ],
   "source": [
    "pca = PCA()\n",
    "svc = SVC(kernel='rbf', C=0.1)\n",
    "scaler = StandardScaler()\n",
    "skf = StratifiedKFold(n_splits= 5, shuffle = True,random_state=0)\n",
    "\n",
    "steps = [('scaler',scaler),('pca',pca),('svc',svc)]\n",
    "pipe = Pipeline(steps)\n",
    "grid_parameters = {'pca__n_components': [10,100,500]}\n",
    "estimator = GridSearchCV(pipe, param_grid= grid_parameters, cv = skf, n_jobs=-1)\n",
    "estimator.fit(X_train, np.ravel(y_train))\n",
    "print estimator.best_params_"
   ]
  },
  {
   "cell_type": "code",
   "execution_count": 410,
   "metadata": {},
   "outputs": [],
   "source": [
    "predict = estimator.best_estimator_.predict(X_test)"
   ]
  },
  {
   "cell_type": "code",
   "execution_count": 412,
   "metadata": {},
   "outputs": [
    {
     "name": "stdout",
     "output_type": "stream",
     "text": [
      "             precision    recall  f1-score   support\n",
      "\n",
      "          0       0.99      0.99      0.99       537\n",
      "          1       0.78      0.80      0.79       491\n",
      "          2       0.83      0.80      0.81       532\n",
      "          3       0.90      0.95      0.93       496\n",
      "          4       0.90      0.86      0.88       420\n",
      "          5       0.93      0.92      0.93       471\n",
      "\n",
      "avg / total       0.89      0.89      0.89      2947\n",
      "\n"
     ]
    }
   ],
   "source": [
    "print classification_report(y_test, predict)"
   ]
  }
 ],
 "metadata": {
  "kernelspec": {
   "display_name": "Python 2",
   "language": "python",
   "name": "python2"
  },
  "language_info": {
   "codemirror_mode": {
    "name": "ipython",
    "version": 2
   },
   "file_extension": ".py",
   "mimetype": "text/x-python",
   "name": "python",
   "nbconvert_exporter": "python",
   "pygments_lexer": "ipython2",
   "version": "2.7.14"
  }
 },
 "nbformat": 4,
 "nbformat_minor": 2
}
